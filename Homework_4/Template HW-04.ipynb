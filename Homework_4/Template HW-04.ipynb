{
 "cells": [
  {
   "cell_type": "markdown",
   "id": "blocked-nightmare",
   "metadata": {
    "toc": true
   },
   "source": [
    "<h1>Table of Contents<span class=\"tocSkip\"></span></h1>\n",
    "<div class=\"toc\"><ul class=\"toc-item\"><li><span><a href=\"#Name-&amp;-ID\" data-toc-modified-id=\"Name-&amp;-ID-1\"><span class=\"toc-item-num\">1&nbsp;&nbsp;</span>Name &amp; ID</a></span></li><li><span><a href=\"#Problem-#-A\" data-toc-modified-id=\"Problem-#-A-2\"><span class=\"toc-item-num\">2&nbsp;&nbsp;</span>Problem # A</a></span><ul class=\"toc-item\"><li><span><a href=\"#A-1\" data-toc-modified-id=\"A-1-2.1\"><span class=\"toc-item-num\">2.1&nbsp;&nbsp;</span>A-1</a></span></li><li><span><a href=\"#A-2\" data-toc-modified-id=\"A-2-2.2\"><span class=\"toc-item-num\">2.2&nbsp;&nbsp;</span>A-2</a></span></li><li><span><a href=\"#A-3\" data-toc-modified-id=\"A-3-2.3\"><span class=\"toc-item-num\">2.3&nbsp;&nbsp;</span>A-3</a></span></li><li><span><a\n",
    "href=\"#A-4\" data-toc-modified-id=\"A-4-2.4\"><span class=\"toc-item-num\">2.4&nbsp;&nbsp;</span>A-4</a></span></li><li><span><a href=\"#A-5\" data-toc-modified-id=\"A-5-2.5\"><span class=\"toc-item-num\">2.5&nbsp;&nbsp;</span>A-5</a></span></li><li><span><a href=\"#A-6\" data-toc-modified-id=\"A-6-2.6\"><span class=\"toc-item-num\">2.6&nbsp;&nbsp;</span>A-6</a></span></li><li><span><a\n",
    "href=\"#A-7\" data-toc-modified-id=\"A-7-2.7\"><span class=\"toc-item-num\">2.7&nbsp;&nbsp;</span>A-7</a></span></li><li><span><a href=\"#A-8\" data-toc-modified-id=\"A-8-2.8\"><span class=\"toc-item-num\">2.8&nbsp;&nbsp;</span>A-8</a></span></li></ul></li></ul></div>"
   ]
  },
  {
   "cell_type": "markdown",
   "id": "desirable-chrome",
   "metadata": {},
   "source": [
    "# Name & ID"
   ]
  },
  {
   "attachments": {},
   "cell_type": "markdown",
   "id": "b320a5df",
   "metadata": {},
   "source": [
    "Group Number:  \n",
    "\n",
    "        Student Names: 1- Mohammed Al Nasser                   Student IDs: 1- 202034520"
   ]
  },
  {
   "cell_type": "markdown",
   "id": "complete-allah",
   "metadata": {},
   "source": [
    "# Problem # A"
   ]
  },
  {
   "cell_type": "markdown",
   "id": "b01842ce",
   "metadata": {},
   "source": [
    "## A-1"
   ]
  },
  {
   "cell_type": "code",
   "execution_count": null,
   "id": "excess-reynolds",
   "metadata": {},
   "outputs": [],
   "source": [
    "# Answers to A-1\n"
   ]
  },
  {
   "cell_type": "markdown",
   "id": "f4bc4200",
   "metadata": {},
   "source": [
    "## A-2"
   ]
  },
  {
   "cell_type": "code",
   "execution_count": null,
   "id": "suited-thursday",
   "metadata": {},
   "outputs": [],
   "source": [
    "# Answers to A-2\n",
    "##a) Using ID3, you can build a model of decisions and their consequences\n",
    "#  that looks like a tree. Based on the values of the features, \n",
    "# a tree is constructed from the root node and separated into smaller\n",
    "# and smaller subsets. The tree is built by selecting the feature that\n",
    "# provides the greatest information gain at each step, and repeating \n",
    "# the process until all the data points in the subset have the same class label.\n",
    "# Naive Bayes, on the other hand, is a probabilistic classifier that makes predictions\n",
    "# based on the probability of a given class given the data point's features. \n",
    "# The ID3 method is generally considered to be more accurate than the Naive Bayes in most cases.\n",
    "\n",
    "#b)Classification rules are used to predict the class or category of a given data point based on its features,\n",
    "# while association rules are used to identify relationships between different items in a dataset.\n",
    "# Classification rules are typically used in supervised learning, where the data is labeled with the correct class,\n",
    "# while association rules are typically used in unsupervised learning, where the data is not labeled and the goal is to discover hidden patterns and relationships in the data."
   ]
  },
  {
   "cell_type": "markdown",
   "id": "feb3615a",
   "metadata": {},
   "source": [
    "## A-3"
   ]
  },
  {
   "cell_type": "code",
   "execution_count": null,
   "id": "ba7e1dda",
   "metadata": {},
   "outputs": [],
   "source": [
    "# Answers to A-3\n"
   ]
  },
  {
   "cell_type": "markdown",
   "id": "5178cb9f",
   "metadata": {},
   "source": [
    "## A-4"
   ]
  },
  {
   "cell_type": "code",
   "execution_count": null,
   "id": "beginning-provincial",
   "metadata": {},
   "outputs": [],
   "source": [
    "# Answers to A-4\n"
   ]
  },
  {
   "cell_type": "markdown",
   "id": "4e3ab6ac",
   "metadata": {},
   "source": [
    "## A-5"
   ]
  },
  {
   "cell_type": "code",
   "execution_count": null,
   "id": "99b74904",
   "metadata": {},
   "outputs": [],
   "source": [
    "# Answers to A-5\n"
   ]
  },
  {
   "cell_type": "markdown",
   "id": "bc0ceda6",
   "metadata": {},
   "source": [
    "## A-6"
   ]
  },
  {
   "cell_type": "code",
   "execution_count": null,
   "id": "0542b032",
   "metadata": {},
   "outputs": [],
   "source": [
    "# Answers to A-6\n"
   ]
  },
  {
   "cell_type": "markdown",
   "id": "95e63ddc",
   "metadata": {},
   "source": [
    "## A-7"
   ]
  },
  {
   "cell_type": "code",
   "execution_count": null,
   "id": "f837a425",
   "metadata": {},
   "outputs": [],
   "source": [
    "# Answers to A-7\n"
   ]
  },
  {
   "cell_type": "markdown",
   "id": "2bf5e220",
   "metadata": {},
   "source": [
    "## A-8"
   ]
  },
  {
   "cell_type": "code",
   "execution_count": null,
   "id": "decb3bdc",
   "metadata": {},
   "outputs": [],
   "source": [
    "# Answers to A-8\n"
   ]
  },
  {
   "cell_type": "markdown",
   "id": "0a7dac18",
   "metadata": {},
   "source": [
    "## A-9"
   ]
  },
  {
   "cell_type": "code",
   "execution_count": null,
   "id": "10fcbde2",
   "metadata": {},
   "outputs": [],
   "source": [
    "# Answers to A-9\n"
   ]
  },
  {
   "cell_type": "markdown",
   "id": "e44e95f9",
   "metadata": {},
   "source": [
    "## A-10"
   ]
  },
  {
   "cell_type": "code",
   "execution_count": null,
   "id": "ac2139c1",
   "metadata": {},
   "outputs": [],
   "source": [
    "# Answers to A-10\n"
   ]
  },
  {
   "cell_type": "markdown",
   "id": "9b9009fa",
   "metadata": {},
   "source": [
    "## Rough Work"
   ]
  },
  {
   "cell_type": "code",
   "execution_count": null,
   "id": "56b04105",
   "metadata": {},
   "outputs": [],
   "source": []
  }
 ],
 "metadata": {
  "celltoolbar": "Edit Metadata",
  "hide_input": false,
  "kernelspec": {
   "display_name": "Python 3",
   "language": "python",
   "name": "python3"
  },
  "language_info": {
   "codemirror_mode": {
    "name": "ipython",
    "version": 3
   },
   "file_extension": ".py",
   "mimetype": "text/x-python",
   "name": "python",
   "nbconvert_exporter": "python",
   "pygments_lexer": "ipython3",
   "version": "3.9.13 (tags/v3.9.13:6de2ca5, May 17 2022, 16:36:42) [MSC v.1929 64 bit (AMD64)]"
  },
  "toc": {
   "base_numbering": 1,
   "nav_menu": {},
   "number_sections": true,
   "sideBar": true,
   "skip_h1_title": false,
   "title_cell": "Table of Contents",
   "title_sidebar": "Contents",
   "toc_cell": true,
   "toc_position": {},
   "toc_section_display": true,
   "toc_window_display": false
  },
  "varInspector": {
   "cols": {
    "lenName": 16,
    "lenType": 16,
    "lenVar": 40
   },
   "kernels_config": {
    "python": {
     "delete_cmd_postfix": "",
     "delete_cmd_prefix": "del ",
     "library": "var_list.py",
     "varRefreshCmd": "print(var_dic_list())"
    },
    "r": {
     "delete_cmd_postfix": ") ",
     "delete_cmd_prefix": "rm(",
     "library": "var_list.r",
     "varRefreshCmd": "cat(var_dic_list()) "
    }
   },
   "types_to_exclude": [
    "module",
    "function",
    "builtin_function_or_method",
    "instance",
    "_Feature"
   ],
   "window_display": false
  },
  "vscode": {
   "interpreter": {
    "hash": "bc8eb17dd5356947bc9e9f3a8a085b93d0c36cc9933a67e18a602c02d30ba02f"
   }
  }
 },
 "nbformat": 4,
 "nbformat_minor": 5
}
