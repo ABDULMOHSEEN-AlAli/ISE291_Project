{
 "cells": [
  {
   "cell_type": "markdown",
   "id": "blocked-nightmare",
   "metadata": {
    "toc": true
   },
   "source": [
    "<h1>Table of Contents<span class=\"tocSkip\"></span></h1>\n",
    "<div class=\"toc\"><ul class=\"toc-item\"><li><span><a href=\"#Name-&amp;-ID\" data-toc-modified-id=\"Name-&amp;-ID-1\"><span class=\"toc-item-num\">1&nbsp;&nbsp;</span>Name &amp; ID</a></span></li><li><span><a href=\"#Problem-#-A\" data-toc-modified-id=\"Problem-#-A-2\"><span class=\"toc-item-num\">2&nbsp;&nbsp;</span>Problem # A</a></span><ul class=\"toc-item\"><li><span><a href=\"#A-1\" data-toc-modified-id=\"A-1-2.1\"><span class=\"toc-item-num\">2.1&nbsp;&nbsp;</span>A-1</a></span></li><li><span><a href=\"#A-2\" data-toc-modified-id=\"A-2-2.2\"><span class=\"toc-item-num\">2.2&nbsp;&nbsp;</span>A-2</a></span></li><li><span><a href=\"#A-3\" data-toc-modified-id=\"A-3-2.3\"><span class=\"toc-item-num\">2.3&nbsp;&nbsp;</span>A-3</a></span></li><li><span><a href=\"#A-4\" data-toc-modified-id=\"A-4-2.4\"><span class=\"toc-item-num\">2.4&nbsp;&nbsp;</span>A-4</a></span></li><li><span><a href=\"#A-5\" data-toc-modified-id=\"A-5-2.5\"><span class=\"toc-item-num\">2.5&nbsp;&nbsp;</span>A-5</a></span></li><li><span><a href=\"#A-6\" data-toc-modified-id=\"A-6-2.6\"><span class=\"toc-item-num\">2.6&nbsp;&nbsp;</span>A-6</a></span></li><li><span><a href=\"#A-7\" data-toc-modified-id=\"A-7-2.7\"><span class=\"toc-item-num\">2.7&nbsp;&nbsp;</span>A-7</a></span></li><li><span><a href=\"#A-8\" data-toc-modified-id=\"A-8-2.8\"><span class=\"toc-item-num\">2.8&nbsp;&nbsp;</span>A-8</a></span></li><li><span><a href=\"#A-9\" data-toc-modified-id=\"A-9-2.9\"><span class=\"toc-item-num\">2.9&nbsp;&nbsp;</span>A-9</a></span></li></ul></li><li><span><a href=\"#Problem-#-B\" data-toc-modified-id=\"Problem-#-B-3\"><span class=\"toc-item-num\">3&nbsp;&nbsp;</span>Problem # B</a></span><ul class=\"toc-item\"><li><span><a href=\"#B-1\" data-toc-modified-id=\"B-1-3.1\"><span class=\"toc-item-num\">3.1&nbsp;&nbsp;</span>B-1</a></span></li><li><span><a href=\"#B-2\" data-toc-modified-id=\"B-2-3.2\"><span class=\"toc-item-num\">3.2&nbsp;&nbsp;</span>B-2</a></span><ul class=\"toc-item\"><li><span><a href=\"#Answers-to-B.2-(3-Marks)\" data-toc-modified-id=\"Answers-to-B.2-(3-Marks)-3.2.1\"><span class=\"toc-item-num\">3.2.1&nbsp;&nbsp;</span>Answers to B.2 (3 Marks)</a></span></li></ul></li><li><span><a href=\"#B-3\" data-toc-modified-id=\"B-3-3.3\"><span class=\"toc-item-num\">3.3&nbsp;&nbsp;</span>B-3</a></span></li><li><span><a href=\"#B-4\" data-toc-modified-id=\"B-4-3.4\"><span class=\"toc-item-num\">3.4&nbsp;&nbsp;</span>B-4</a></span></li><li><span><a href=\"#B-5\" data-toc-modified-id=\"B-5-3.5\"><span class=\"toc-item-num\">3.5&nbsp;&nbsp;</span>B-5</a></span></li><li><span><a href=\"#B-6\" data-toc-modified-id=\"B-6-3.6\"><span class=\"toc-item-num\">3.6&nbsp;&nbsp;</span>B-6</a></span></li><li><span><a href=\"#B-7\" data-toc-modified-id=\"B-7-3.7\"><span class=\"toc-item-num\">3.7&nbsp;&nbsp;</span>B-7</a></span></li><li><span><a href=\"#B-8\" data-toc-modified-id=\"B-8-3.8\"><span class=\"toc-item-num\">3.8&nbsp;&nbsp;</span>B-8</a></span></li><li><span><a href=\"#B-9\" data-toc-modified-id=\"B-9-3.9\"><span class=\"toc-item-num\">3.9&nbsp;&nbsp;</span>B-9</a></span></li><li><span><a href=\"#B-10\" data-toc-modified-id=\"B-10-3.10\"><span class=\"toc-item-num\">3.10&nbsp;&nbsp;</span>B-10</a></span></li><li><span><a href=\"#B-11\" data-toc-modified-id=\"B-11-3.11\"><span class=\"toc-item-num\">3.11&nbsp;&nbsp;</span>B-11</a></span></li><li><span><a href=\"#Rough-Work\" data-toc-modified-id=\"Rough-Work-3.12\"><span class=\"toc-item-num\">3.12&nbsp;&nbsp;</span>Rough Work</a></span></li></ul></li></ul></div>"
   ]
  },
  {
   "cell_type": "markdown",
   "id": "desirable-chrome",
   "metadata": {},
   "source": [
    "# Name & ID"
   ]
  },
  {
   "cell_type": "code",
   "execution_count": null,
   "id": "f2f7adb1",
   "metadata": {},
   "outputs": [],
   "source": [
    "Name= 'First_Name  Last_Name'    #write your name"
   ]
  },
  {
   "cell_type": "code",
   "execution_count": null,
   "id": "06518589",
   "metadata": {},
   "outputs": [],
   "source": [
    "ID= 202012345   #write your student ID"
   ]
  },
  {
   "cell_type": "code",
   "execution_count": null,
   "id": "0811c8bf",
   "metadata": {
    "deletable": false,
    "editable": false
   },
   "outputs": [],
   "source": [
    "# Execute this cell \n",
    "try:\n",
    "    if (Name== 'First_Name  Last_Name')  | (ID== 202012345):\n",
    "        raise ValueError('''\n",
    "    **************************MISSING INFO*****************************\n",
    "    Enter your name & student ID in the top cells (& execute the cells)\n",
    "    *******************************************************************''') \n",
    "except:\n",
    "    raise ValueError('''\n",
    "    **************************MISSING INFO*****************************\n",
    "    Enter your name & student ID in the top cells (& execute the cells)\n",
    "    *******************************************************************''')\n",
    "else:\n",
    "    print('All set, you can proceed!')"
   ]
  },
  {
   "cell_type": "markdown",
   "id": "complete-allah",
   "metadata": {},
   "source": [
    "# Problem # A"
   ]
  },
  {
   "cell_type": "markdown",
   "id": "b01842ce",
   "metadata": {},
   "source": [
    "## A-1"
   ]
  },
  {
   "cell_type": "code",
   "execution_count": 1,
   "id": "excess-reynolds",
   "metadata": {},
   "outputs": [],
   "source": [
    "# Answers to A-1 \n"
   ]
  },
  {
   "cell_type": "markdown",
   "id": "f4bc4200",
   "metadata": {},
   "source": [
    "## A-2"
   ]
  },
  {
   "cell_type": "code",
   "execution_count": 2,
   "id": "suited-thursday",
   "metadata": {},
   "outputs": [],
   "source": [
    "# Answers to A-2\n"
   ]
  },
  {
   "cell_type": "markdown",
   "id": "feb3615a",
   "metadata": {},
   "source": [
    "## A-3"
   ]
  },
  {
   "cell_type": "code",
   "execution_count": 3,
   "id": "a2fb5b88",
   "metadata": {},
   "outputs": [],
   "source": [
    "# Answers to A-3\n"
   ]
  },
  {
   "cell_type": "markdown",
   "id": "5178cb9f",
   "metadata": {},
   "source": [
    "## A-4"
   ]
  },
  {
   "cell_type": "code",
   "execution_count": 4,
   "id": "beginning-provincial",
   "metadata": {},
   "outputs": [],
   "source": [
    "# Answers to A-4\n"
   ]
  },
  {
   "cell_type": "markdown",
   "id": "4e3ab6ac",
   "metadata": {},
   "source": [
    "## A-5"
   ]
  },
  {
   "cell_type": "code",
   "execution_count": 5,
   "id": "99b74904",
   "metadata": {},
   "outputs": [],
   "source": [
    "# Answers to A-5\n"
   ]
  },
  {
   "cell_type": "markdown",
   "id": "bc0ceda6",
   "metadata": {},
   "source": [
    "## A-6"
   ]
  },
  {
   "cell_type": "code",
   "execution_count": 6,
   "id": "0542b032",
   "metadata": {},
   "outputs": [],
   "source": [
    "# Answers to A-6\n"
   ]
  },
  {
   "cell_type": "code",
   "execution_count": 7,
   "id": "74866200",
   "metadata": {},
   "outputs": [],
   "source": [
    "# Answers to A-6(a)\n"
   ]
  },
  {
   "cell_type": "code",
   "execution_count": 8,
   "id": "003e7626",
   "metadata": {},
   "outputs": [],
   "source": [
    "# Answers to A-6(b)\n"
   ]
  },
  {
   "cell_type": "code",
   "execution_count": 9,
   "id": "eb01de8b",
   "metadata": {},
   "outputs": [],
   "source": [
    "# Answers to A-6(c)\n"
   ]
  },
  {
   "cell_type": "markdown",
   "id": "95e63ddc",
   "metadata": {},
   "source": [
    "## A-7"
   ]
  },
  {
   "cell_type": "code",
   "execution_count": 10,
   "id": "f837a425",
   "metadata": {},
   "outputs": [],
   "source": [
    "# Answers to A-7\n"
   ]
  },
  {
   "cell_type": "markdown",
   "id": "2bf5e220",
   "metadata": {},
   "source": [
    "## A-8"
   ]
  },
  {
   "cell_type": "code",
   "execution_count": 1,
   "id": "decb3bdc",
   "metadata": {},
   "outputs": [],
   "source": [
    "# Answers to A-8\n"
   ]
  },
  {
   "cell_type": "markdown",
   "id": "19026b2b",
   "metadata": {},
   "source": [
    "## A-9"
   ]
  },
  {
   "cell_type": "code",
   "execution_count": null,
   "id": "a579aafa",
   "metadata": {},
   "outputs": [],
   "source": [
    "# Answers to A-9\n"
   ]
  },
  {
   "cell_type": "markdown",
   "id": "dominant-complement",
   "metadata": {},
   "source": [
    "# Problem # B"
   ]
  },
  {
   "cell_type": "markdown",
   "id": "20eadee9",
   "metadata": {},
   "source": [
    "## B-1"
   ]
  },
  {
   "cell_type": "code",
   "execution_count": 12,
   "id": "herbal-faculty",
   "metadata": {},
   "outputs": [],
   "source": [
    "# Answers to B-1\n"
   ]
  },
  {
   "cell_type": "markdown",
   "id": "792a9da7",
   "metadata": {},
   "source": [
    "## B-2"
   ]
  },
  {
   "cell_type": "markdown",
   "id": "856b962f",
   "metadata": {},
   "source": [
    "### Answers to B.2 (3 Marks)\n",
    "\n"
   ]
  },
  {
   "cell_type": "markdown",
   "id": "280f238b",
   "metadata": {},
   "source": [
    "## B-3"
   ]
  },
  {
   "cell_type": "code",
   "execution_count": 13,
   "id": "tough-wrestling",
   "metadata": {},
   "outputs": [],
   "source": [
    "# Answers to B-3\n"
   ]
  },
  {
   "cell_type": "markdown",
   "id": "73e6ccfb",
   "metadata": {},
   "source": [
    "## B-4"
   ]
  },
  {
   "cell_type": "code",
   "execution_count": 14,
   "id": "directed-microwave",
   "metadata": {},
   "outputs": [],
   "source": [
    "# Answers to B-4\n"
   ]
  },
  {
   "cell_type": "markdown",
   "id": "39a0beed",
   "metadata": {},
   "source": [
    "## B-5"
   ]
  },
  {
   "cell_type": "code",
   "execution_count": 15,
   "id": "25e4a1aa",
   "metadata": {},
   "outputs": [],
   "source": [
    "# Answers to B-5\n"
   ]
  },
  {
   "cell_type": "markdown",
   "id": "5502bc89",
   "metadata": {},
   "source": [
    "## B-6"
   ]
  },
  {
   "cell_type": "code",
   "execution_count": 16,
   "id": "478b1c30",
   "metadata": {},
   "outputs": [],
   "source": [
    "# Answers to B-6\n"
   ]
  },
  {
   "cell_type": "markdown",
   "id": "55c1e6a4",
   "metadata": {},
   "source": [
    "## B-7"
   ]
  },
  {
   "cell_type": "code",
   "execution_count": 17,
   "id": "cb315b35",
   "metadata": {},
   "outputs": [],
   "source": [
    "# Answers to B-7\n"
   ]
  },
  {
   "cell_type": "markdown",
   "id": "e617b34f",
   "metadata": {},
   "source": [
    "## B-8"
   ]
  },
  {
   "cell_type": "code",
   "execution_count": 18,
   "id": "53fafb81",
   "metadata": {},
   "outputs": [],
   "source": [
    "# Answers to B-8\n"
   ]
  },
  {
   "cell_type": "markdown",
   "id": "ffaf33b0",
   "metadata": {},
   "source": [
    "## B-9"
   ]
  },
  {
   "cell_type": "code",
   "execution_count": 19,
   "id": "281e090d",
   "metadata": {},
   "outputs": [],
   "source": [
    "# Answers to B-9\n"
   ]
  },
  {
   "cell_type": "markdown",
   "id": "abdff216",
   "metadata": {},
   "source": [
    "## B-10"
   ]
  },
  {
   "cell_type": "code",
   "execution_count": 20,
   "id": "e577bcee",
   "metadata": {},
   "outputs": [],
   "source": [
    "# Answers to B-10\n"
   ]
  },
  {
   "cell_type": "markdown",
   "id": "885115bb",
   "metadata": {},
   "source": [
    "## B-11"
   ]
  },
  {
   "cell_type": "code",
   "execution_count": 21,
   "id": "6a72b58a",
   "metadata": {},
   "outputs": [],
   "source": [
    "# Answers to B.11\n"
   ]
  },
  {
   "cell_type": "markdown",
   "id": "9b9009fa",
   "metadata": {},
   "source": [
    "## Rough Work"
   ]
  },
  {
   "cell_type": "code",
   "execution_count": null,
   "id": "56b04105",
   "metadata": {},
   "outputs": [],
   "source": []
  }
 ],
 "metadata": {
  "hide_input": false,
  "kernelspec": {
   "display_name": "Python 3 (ipykernel)",
   "language": "python",
   "name": "python3"
  },
  "language_info": {
   "codemirror_mode": {
    "name": "ipython",
    "version": 3
   },
   "file_extension": ".py",
   "mimetype": "text/x-python",
   "name": "python",
   "nbconvert_exporter": "python",
   "pygments_lexer": "ipython3",
   "version": "3.9.12"
  },
  "toc": {
   "base_numbering": 1,
   "nav_menu": {},
   "number_sections": true,
   "sideBar": true,
   "skip_h1_title": false,
   "title_cell": "Table of Contents",
   "title_sidebar": "Contents",
   "toc_cell": true,
   "toc_position": {},
   "toc_section_display": true,
   "toc_window_display": false
  },
  "varInspector": {
   "cols": {
    "lenName": 16,
    "lenType": 16,
    "lenVar": 40
   },
   "kernels_config": {
    "python": {
     "delete_cmd_postfix": "",
     "delete_cmd_prefix": "del ",
     "library": "var_list.py",
     "varRefreshCmd": "print(var_dic_list())"
    },
    "r": {
     "delete_cmd_postfix": ") ",
     "delete_cmd_prefix": "rm(",
     "library": "var_list.r",
     "varRefreshCmd": "cat(var_dic_list()) "
    }
   },
   "types_to_exclude": [
    "module",
    "function",
    "builtin_function_or_method",
    "instance",
    "_Feature"
   ],
   "window_display": false
  }
 },
 "nbformat": 4,
 "nbformat_minor": 5
}
